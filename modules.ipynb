{
 "cells": [
  {
   "cell_type": "code",
   "execution_count": 11,
   "metadata": {},
   "outputs": [
    {
     "name": "stdout",
     "output_type": "stream",
     "text": [
      "Use device cuda:0\n"
     ]
    }
   ],
   "source": [
    "import torch\n",
    "import numpy as np\n",
    "from torch import nn\n",
    "import matplotlib.pyplot as plt\n",
    "import seaborn as sns\n",
    "import os\n",
    "sns.set_style('white')\n",
    "from torch.utils.data import DataLoader\n",
    "\n",
    "device = torch.device('cuda:0' if torch.cuda.is_available() else 'cpu')\n",
    "print(f\"Use device {device}\")"
   ]
  },
  {
   "cell_type": "markdown",
   "metadata": {},
   "source": [
    "### Generate data"
   ]
  },
  {
   "cell_type": "code",
   "execution_count": 12,
   "metadata": {},
   "outputs": [],
   "source": [
    "class DataModule():\n",
    "    def __init__(self, num_observatiosn=2000, batch_size=128, num_workers=2, is_train=True):\n",
    "        self.N = num_observatiosn\n",
    "        self.batch_size = batch_size\n",
    "        self.num_workers = num_workers\n",
    "        self.is_train = is_train\n",
    "\n",
    "    def generate_orgin(self, batch_size: int) -> torch.Tensor:\n",
    "        \"\"\"Generate original data.\"\"\"\n",
    "        raise NotImplementedError\n",
    "\n",
    "    def _generate_data(self, iterations=3):\n",
    "        self.origin = self.generate_orgin(self.N)\n",
    "        d = self.origin.clone()\n",
    "        w_size = d.shape[1]\n",
    "        for i in range(iterations):\n",
    "            W = np.random.uniform(-1, 1, size=(w_size, w_size))\n",
    "            d = torch.tanh(d @ W)\n",
    "        self.data = d.to(torch.float32)\n",
    "\n",
    "    def get_dataloader(self, iterations=3):\n",
    "        self._generate_data(iterations=iterations)\n",
    "        return DataLoader((self.data, self.generate_orgin(self.N)), batch_size=self.batch_size, \\\n",
    "                          num_workers=self.num_workers, shuffle=self.is_train)\n",
    "    \n",
    "    def show_distribution(self, data: torch.Tensor, nrows: int, ncols: int, fig_path=None):\n",
    "        assert data.shape[1] == nrows*ncols, \"The number of subplots does not match the number of data.\"\n",
    "        fig, axs = plt.subplots(nrows, ncols, figsize=(ncols*4, nrows*4))\n",
    "        axs = axs.reshape((nrows, ncols))\n",
    "        for r in range(nrows):\n",
    "            for c in range(ncols):\n",
    "                idx = r * ncols + c\n",
    "                sns.histplot(data[:, idx], ax=axs[r, c])\n",
    "        if fig_path is not None:\n",
    "            fig.savefig(fig_path)\n",
    "\n",
    "\n",
    "class Data_dim2(DataModule):\n",
    "    def __init__(self, num_observatiosn=2000, batch_size=128, num_workers=2, is_train=True):\n",
    "        super().__init__(num_observatiosn, batch_size, num_workers, is_train)\n",
    "    \n",
    "    def generate_orgin(self, batch_size) -> torch.Tensor:\n",
    "        size = (batch_size, 1)\n",
    "        d1 = np.random.uniform(-1, 1, size)\n",
    "        d2 = np.random.exponential(1, size)\n",
    "        origin = torch.tensor(np.concatenate([d1, d2], axis=1), dtype=torch.float32)\n",
    "        return origin"
   ]
  },
  {
   "cell_type": "markdown",
   "metadata": {},
   "source": [
    "### MMD\n",
    "Can consider use multiple kernels in the MMD-GAN"
   ]
  },
  {
   "cell_type": "code",
   "execution_count": 13,
   "metadata": {},
   "outputs": [],
   "source": [
    "def rbf_kernel(X, Y, gamma):\n",
    "    \"\"\"\n",
    "    Calculate the RBF kernel of the given data X and Y\n",
    "    \n",
    "    Args\n",
    "    ----\n",
    "    X, Y: torch.Tensor\n",
    "        The target data\n",
    "    gamma: float\n",
    "        Inverse of the bandwidth (1/sigma)\n",
    "        \n",
    "    Returns\n",
    "    -------\n",
    "    \"\"\"\n",
    "    assert X.shape[1] == Y.shape[1], \"The data should have the same dimension.\"\n",
    "\n",
    "    # Calculate the Euclidean distance between the every pair of data in X and Y\n",
    "    K = ((X[: ,np.newaxis, :] - Y[np.newaxis, :, :])**2).sum(axis=2)\n",
    "    if gamma is None:\n",
    "        gamma = 1.0 / X.shape[1]\n",
    "    \n",
    "    K *= -gamma \n",
    "    return torch.exp(K)\n",
    "\n",
    "def mmd2(X, Y, kernel=rbf_kernel, gamma=10):\n",
    "    K_xx, K_xy, K_yy = kernel(X, X, gamma), kernel(X, Y, gamma), kernel(Y, Y, gamma)\n",
    "    n = X.shape[0]\n",
    "    numerator = n * (n - 1)\n",
    "    return K_xx.sum() / numerator - (2*K_xy.sum())  / numerator + K_yy.sum() / numerator\n",
    "\n",
    "def mmd(X, Y, kernel=rbf_kernel, **kwargs):\n",
    "    return mmd2(X, Y, kernel, **kwargs)**(0.5)"
   ]
  },
  {
   "cell_type": "markdown",
   "metadata": {},
   "source": [
    "### Network"
   ]
  },
  {
   "cell_type": "code",
   "execution_count": 14,
   "metadata": {},
   "outputs": [],
   "source": [
    "class Encoder(nn.Module):\n",
    "    def __init__(self, input_size):\n",
    "        super().__init__()\n",
    "        self.net = nn.Sequential(\n",
    "            nn.Linear(input_size, input_size*2),\n",
    "            nn.Tanh(),\n",
    "            nn.Linear(input_size*2, input_size*4),\n",
    "            nn.Tanh(),\n",
    "            nn.Linear(input_size*4, input_size*2),\n",
    "            nn.Tanh(),\n",
    "            nn.Linear(input_size*2, input_size),\n",
    "        )\n",
    "    \n",
    "    def __getitem__(self, idx):\n",
    "        return self.net[idx]\n",
    "    \n",
    "    def forward(self, X):\n",
    "        return self.net(X)\n",
    "\n",
    "def weight_init(m: nn.Module):\n",
    "    if type(m) == nn.Linear:\n",
    "        nn.init.xavier_normal_(m.weight.data)\n",
    "\n",
    "def get_net(input_size):\n",
    "    net = Encoder(input_size=input_size).to(device)\n",
    "    net.apply(weight_init)\n",
    "    return net"
   ]
  },
  {
   "cell_type": "markdown",
   "metadata": {},
   "source": [
    "### Train"
   ]
  },
  {
   "cell_type": "code",
   "execution_count": 15,
   "metadata": {},
   "outputs": [],
   "source": [
    "batch_size = 256\n",
    "data = Data_dim2(num_observatiosn=5000, batch_size=batch_size)\n",
    "train_loader = data.get_dataloader(3)\n",
    "num_epochs = 1000\n",
    "loss = mmd"
   ]
  },
  {
   "cell_type": "code",
   "execution_count": 16,
   "metadata": {},
   "outputs": [
    {
     "data": {
      "image/png": "[encoded data removed]",
      "text/plain": [
       "<Figure size 576x288 with 2 Axes>"
      ]
     },
     "metadata": {},
     "output_type": "display_data"
    },
    {
     "data": {
      "image/png": "[encoded data removed]",
      "text/plain": [
       "<Figure size 576x288 with 2 Axes>"
      ]
     },
     "metadata": {},
     "output_type": "display_data"
    }
   ],
   "source": [
    "for X, y in train_loader:\n",
    "    data.show_distribution(X, 1, 2)\n",
    "    data.show_distribution(y, 1, 2)\n",
    "    break"
   ]
  },
  {
   "cell_type": "code",
   "execution_count": 17,
   "metadata": {},
   "outputs": [],
   "source": [
    "def train(num_epochs, train_loader, device, loss, net, lr, gamma, wd=0, betas=(0.9, 0.999), fig_path=None, verbose=False):\n",
    "    # configure optimizer\n",
    "    optimizer = torch.optim.Adam(net.parameters(), betas=betas,lr=lr, weight_decay=wd)\n",
    "\n",
    "    loss_list = []\n",
    "    for epoch in range(num_epochs):\n",
    "        epoch_loss = []\n",
    "        for X, y in train_loader:\n",
    "            X, y = X.to(device=device), y.to(device=device)\n",
    "            l = loss(net(X), y, gamma=gamma)\n",
    "            l.backward()\n",
    "            optimizer.step()\n",
    "            epoch_loss.append(l.item())   \n",
    "        loss_list.append(np.array(epoch_loss).mean())\n",
    "\n",
    "        if verbose and (epoch + 1) % 10 == 0:\n",
    "            print(f'[{epoch+1}/{num_epochs}] Loss: {loss_list[-1]}')\n",
    "    \n",
    "    fig, ax = plt.subplots()\n",
    "    sns.lineplot(data=loss_list, ax=ax)\n",
    "    if fig_path is not None:\n",
    "        fig.savefig(fig_path)\n",
    "    plt.close()"
   ]
  },
  {
   "cell_type": "code",
   "execution_count": 18,
   "metadata": {},
   "outputs": [],
   "source": [
    "# The hyper parameter to be adjusted\n",
    "gammas = [1, 10, 100, 1000]\n",
    "lrs = [1e-5, 1e-4, 1e-3, 1e-2, 1e-1, 1]   "
   ]
  },
  {
   "cell_type": "code",
   "execution_count": 20,
   "metadata": {},
   "outputs": [
    {
     "name": "stdout",
     "output_type": "stream",
     "text": [
      "Finish lr = 1e-05, gamma = 1\n",
      "Finish lr = 1e-05, gamma = 10\n",
      "Finish lr = 1e-05, gamma = 100\n",
      "Finish lr = 1e-05, gamma = 1000\n",
      "Finish lr = 0.0001, gamma = 1\n",
      "Finish lr = 0.0001, gamma = 10\n",
      "Finish lr = 0.0001, gamma = 100\n",
      "Finish lr = 0.0001, gamma = 1000\n",
      "Finish lr = 0.001, gamma = 1\n",
      "Finish lr = 0.001, gamma = 10\n",
      "Finish lr = 0.001, gamma = 100\n",
      "Finish lr = 0.001, gamma = 1000\n",
      "Finish lr = 0.01, gamma = 1\n",
      "Finish lr = 0.01, gamma = 10\n",
      "Finish lr = 0.01, gamma = 100\n",
      "Finish lr = 0.01, gamma = 1000\n"
     ]
    }
   ],
   "source": [
    "for lr in lrs:\n",
    "    for gamma in gammas:\n",
    "        loss_path = os.path.join('results', 'tanh', 'loss', str(lr)+\"|\"+str(gamma)+\".png\")\n",
    "        output_path = os.path.join('results', 'tanh', 'output', str(lr)+\"|\"+str(gamma)+\".png\")\n",
    "        net = get_net(data.data.shape[1])\n",
    "        train(num_epochs, train_loader, device, loss, net, lr=lr, gamma=gamma, fig_path=loss_path)\n",
    "        with torch.no_grad():\n",
    "            y = net(data.data.to(device=device))\n",
    "            data.show_distribution(y.cpu(), 1, 2, fig_path=output_path)\n",
    "        print(f'Finish lr = {lr}, gamma = {gamma}')"
   ]
  },
  {
   "cell_type": "code",
   "execution_count": null,
   "metadata": {},
   "outputs": [],
   "source": []
  }
 ],
 "metadata": {
  "kernelspec": {
   "display_name": "Python 3.8.12 ('d2l')",
   "language": "python",
   "name": "python3"
  },
  "language_info": {
   "codemirror_mode": {
    "name": "ipython",
    "version": 3
   },
   "file_extension": ".py",
   "mimetype": "text/x-python",
   "name": "python",
   "nbconvert_exporter": "python",
   "pygments_lexer": "ipython3",
   "version": "3.8.12"
  },
  "orig_nbformat": 4,
  "vscode": {
   "interpreter": {
    "hash": "e378691804b4ba062c90651a698bbb0bd3333af9d58844d852bb6a38926609e9"
   }
  }
 },
 "nbformat": 4,
 "nbformat_minor": 2
}

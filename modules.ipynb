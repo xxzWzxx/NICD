{
 "cells": [
  {
   "cell_type": "code",
   "execution_count": 1,
   "metadata": {},
   "outputs": [],
   "source": [
    "import torch\n",
    "import numpy as np\n",
    "from torch import nn\n",
    "import matplotlib.pyplot as plt\n",
    "import seaborn as sns\n",
    "from torch.utils.data import DataLoader\n",
    "\n",
    "device = torch.device('cuda:0' if torch.cuda.is_available() else 'cpu')"
   ]
  },
  {
   "cell_type": "markdown",
   "metadata": {},
   "source": [
    "### Generate data"
   ]
  },
  {
   "cell_type": "code",
   "execution_count": 2,
   "metadata": {},
   "outputs": [],
   "source": [
    "class DataModule():\n",
    "    def __init__(self, num_observatiosn=2000, batch_size=128, num_workers=2, is_train=True):\n",
    "        self.N = num_observatiosn\n",
    "        self.batch_size = batch_size\n",
    "        self.num_workers = num_workers\n",
    "        self.is_train = is_train\n",
    "\n",
    "    def generate_orgin(self, batch_size: int) -> torch.Tensor:\n",
    "        \"\"\"Generate original data.\"\"\"\n",
    "        raise NotImplementedError\n",
    "\n",
    "    def _generate_data(self, iterations=3):\n",
    "        self.origin = self.generate_orgin(self.N)\n",
    "        d = self.origin.clone()\n",
    "        w_size = d.shape[1]\n",
    "        for i in range(iterations):\n",
    "            W = np.random.uniform(-1, 1, size=(w_size, w_size))\n",
    "            d = torch.tanh(d @ W)\n",
    "        self.data = d.to(torch.float32)\n",
    "\n",
    "    def get_dataloader(self, iterations=3):\n",
    "        self._generate_data(iterations=iterations)\n",
    "        return DataLoader((self.data, self.generate_orgin(self.N)), batch_size=self.batch_size, \\\n",
    "                          num_workers=self.num_workers, shuffle=self.is_train)\n",
    "    \n",
    "    def show_distribution(self, data: torch.Tensor, nrows: int, ncols: int):\n",
    "        assert data.shape[1] == nrows*ncols, \"The number of subplots does not match the number of data.\"\n",
    "        fig, axs = plt.subplots(nrows, ncols, figsize=(ncols*4, nrows*4))\n",
    "        axs = axs.reshape((nrows, ncols))\n",
    "        for r in range(nrows):\n",
    "            for c in range(ncols):\n",
    "                idx = r * ncols + c\n",
    "                sns.histplot(data[:, idx], ax=axs[r, c])\n",
    "\n",
    "\n",
    "class Data_dim2(DataModule):\n",
    "    def __init__(self, num_observatiosn=2000, batch_size=128, num_workers=2, is_train=True):\n",
    "        super().__init__(num_observatiosn, batch_size, num_workers, is_train)\n",
    "    \n",
    "    def generate_orgin(self, batch_size) -> torch.Tensor:\n",
    "        size = (batch_size, 1)\n",
    "        d1 = np.random.uniform(-1, 1, size)\n",
    "        d2 = np.random.exponential(1, size)\n",
    "        origin = torch.tensor(np.concatenate([d1, d2], axis=1), dtype=torch.float32)\n",
    "        return origin"
   ]
  },
  {
   "cell_type": "markdown",
   "metadata": {},
   "source": [
    "### MMD\n",
    "Can consider use multiple kernels in the MMD-GAN"
   ]
  },
  {
   "cell_type": "code",
   "execution_count": 3,
   "metadata": {},
   "outputs": [],
   "source": [
    "def rbf_kernel(X, Y, gamma):\n",
    "    \"\"\"\n",
    "    Calculate the RBF kernel of the given data X and Y\n",
    "    \n",
    "    Args\n",
    "    ----\n",
    "    X, Y: torch.Tensor\n",
    "        The target data\n",
    "    gamma: float\n",
    "        Inverse of the bandwidth (1/sigma)\n",
    "        \n",
    "    Returns\n",
    "    -------\n",
    "    \"\"\"\n",
    "    assert X.shape[1] == Y.shape[1], \"The data should have the same dimension.\"\n",
    "\n",
    "    # Calculate the Euclidean distance between the every pair of data in X and Y\n",
    "    K = ((X[: ,np.newaxis, :] - Y[np.newaxis, :, :])**2).sum(axis=2)\n",
    "    if gamma is None:\n",
    "        gamma = 1.0 / X.shape[1]\n",
    "    \n",
    "    K *= -gamma \n",
    "    return torch.exp(K)\n",
    "\n",
    "def mmd2(X, Y, kernel=rbf_kernel, gamma=10):\n",
    "    K_xx, K_xy, K_yy = kernel(X, X, gamma), kernel(X, Y, gamma), kernel(Y, Y, gamma)\n",
    "    n = X.shape[0]\n",
    "    numerator = n * (n - 1)\n",
    "    return K_xx.sum() / numerator - (2*K_xy.sum())  /numerator + K_yy.sum() / numerator\n",
    "\n",
    "def mmd(X, Y, kernel=rbf_kernel, **kwargs):\n",
    "    return mmd2(X, Y, kernel, **kwargs)**(0.5)"
   ]
  },
  {
   "cell_type": "markdown",
   "metadata": {},
   "source": [
    "### Network"
   ]
  },
  {
   "cell_type": "code",
   "execution_count": 4,
   "metadata": {},
   "outputs": [],
   "source": [
    "class Encoder(nn.Module):\n",
    "    def __init__(self, input_size):\n",
    "        super().__init__()\n",
    "        self.net = nn.Sequential(\n",
    "            nn.Linear(input_size, 40),\n",
    "            nn.ReLU(),\n",
    "            nn.Linear(40, 40),\n",
    "            nn.ReLU(),\n",
    "            nn.Linear(40, 40),\n",
    "            nn.ReLU(),\n",
    "            nn.Linear(40, input_size),\n",
    "        )\n",
    "    \n",
    "    def __getitem__(self, idx):\n",
    "        return self.net[idx]\n",
    "    \n",
    "    def forward(self, X):\n",
    "        return self.net(X)\n",
    "\n",
    "def weight_init(m: nn.Module):\n",
    "    if type(m) == nn.Linear:\n",
    "        nn.init.xavier_normal_(m.weight.data)"
   ]
  },
  {
   "cell_type": "markdown",
   "metadata": {},
   "source": [
    "### Train"
   ]
  },
  {
   "cell_type": "code",
   "execution_count": 46,
   "metadata": {},
   "outputs": [],
   "source": [
    "batch_size = 256\n",
    "data = Data_dim2(num_observatiosn=2000, batch_size=batch_size)\n",
    "train_loader = data.get_dataloader(3)"
   ]
  },
  {
   "cell_type": "code",
   "execution_count": 75,
   "metadata": {},
   "outputs": [
    {
     "data": {
      "text/plain": [
       "Encoder(\n",
       "  (net): Sequential(\n",
       "    (0): Linear(in_features=2, out_features=40, bias=True)\n",
       "    (1): ReLU()\n",
       "    (2): Linear(in_features=40, out_features=40, bias=True)\n",
       "    (3): ReLU()\n",
       "    (4): Linear(in_features=40, out_features=40, bias=True)\n",
       "    (5): ReLU()\n",
       "    (6): Linear(in_features=40, out_features=2, bias=True)\n",
       "  )\n",
       ")"
      ]
     },
     "execution_count": 75,
     "metadata": {},
     "output_type": "execute_result"
    }
   ],
   "source": [
    "net = Encoder(input_size=data.data.shape[1]).to(device)\n",
    "net.apply(weight_init)"
   ]
  },
  {
   "cell_type": "code",
   "execution_count": 84,
   "metadata": {},
   "outputs": [],
   "source": [
    "betas = (0.9, 0.999)\n",
    "lr = 5e-6\n",
    "wd = 0\n",
    "optimizer = torch.optim.Adam(net.parameters(), lr=lr, weight_decay=wd)"
   ]
  },
  {
   "cell_type": "code",
   "execution_count": 77,
   "metadata": {},
   "outputs": [],
   "source": [
    "num_epochs = 100\n",
    "loss = mmd\n",
    "gamma = 10"
   ]
  },
  {
   "cell_type": "code",
   "execution_count": 78,
   "metadata": {},
   "outputs": [],
   "source": [
    "def train(num_epochs, train_loader, device, loss, net, optimizer):\n",
    "    loss_list = []\n",
    "    for epoch in range(num_epochs):\n",
    "        for X, y in train_loader:\n",
    "            X, y = X.to(device=device), y.to(device=device)\n",
    "            l = loss(net(X), net(y), gamma=gamma)\n",
    "            l.backward()\n",
    "            optimizer.step()\n",
    "        \n",
    "            loss_list.append(l.item())\n",
    "\n",
    "        if (epoch + 1) % 10 == 0:\n",
    "            print(f'[{epoch+1}/{num_epochs}] Loss: {loss_list[-1]}')\n",
    "            \n",
    "    sns.lineplot(data=loss_list)"
   ]
  },
  {
   "cell_type": "code",
   "execution_count": 90,
   "metadata": {},
   "outputs": [
    {
     "name": "stdout",
     "output_type": "stream",
     "text": [
      "[10/100] Loss: 0.056499965488910675\n",
      "[20/100] Loss: 0.05326519533991814\n",
      "[30/100] Loss: 0.050433214753866196\n",
      "[40/100] Loss: 0.04804114252328873\n",
      "[50/100] Loss: 0.046115443110466\n",
      "[60/100] Loss: 0.044679734855890274\n",
      "[70/100] Loss: 0.043741390109062195\n",
      "[80/100] Loss: 0.043295569717884064\n",
      "[90/100] Loss: 0.043313466012477875\n",
      "[100/100] Loss: 0.04376659169793129\n"
     ]
    },
    {
     "data": {
      "image/png": "[encoded data removed]",
      "text/plain": [
       "<Figure size 432x288 with 1 Axes>"
      ]
     },
     "metadata": {
      "needs_background": "light"
     },
     "output_type": "display_data"
    }
   ],
   "source": [
    "train(num_epochs, train_loader, device, loss, net, optimizer)"
   ]
  },
  {
   "cell_type": "code",
   "execution_count": 91,
   "metadata": {},
   "outputs": [
    {
     "data": {
      "text/plain": [
       "tensor([[-0.0470,  0.1285],\n",
       "        [-0.0502,  0.1297],\n",
       "        [-0.0512,  0.1288],\n",
       "        ...,\n",
       "        [-0.0483,  0.1300],\n",
       "        [-0.0508,  0.1320],\n",
       "        [-0.0473,  0.1289]], device='cuda:0')"
      ]
     },
     "execution_count": 91,
     "metadata": {},
     "output_type": "execute_result"
    }
   ],
   "source": [
    "with torch.no_grad():\n",
    "    y = net(data.data.to(device=device))\n",
    "y"
   ]
  },
  {
   "cell_type": "code",
   "execution_count": 92,
   "metadata": {},
   "outputs": [
    {
     "data": {
      "image/png": "[encoded data removed]",
      "text/plain": [
       "<Figure size 576x288 with 2 Axes>"
      ]
     },
     "metadata": {
      "needs_background": "light"
     },
     "output_type": "display_data"
    }
   ],
   "source": [
    "data.show_distribution(y.cpu(), 1, 2)"
   ]
  },
  {
   "cell_type": "code",
   "execution_count": 93,
   "metadata": {},
   "outputs": [
    {
     "data": {
      "image/png": "[encoded data removed]",
      "text/plain": [
       "<Figure size 576x288 with 2 Axes>"
      ]
     },
     "metadata": {
      "needs_background": "light"
     },
     "output_type": "display_data"
    }
   ],
   "source": [
    "data.show_distribution(data.origin, 1, 2)"
   ]
  },
  {
   "cell_type": "markdown",
   "metadata": {},
   "source": [
    "1. batch size\n",
    "2. 试一下别的激活函数"
   ]
  }
 ],
 "metadata": {
  "kernelspec": {
   "display_name": "Python 3.9.12 ('d2l')",
   "language": "python",
   "name": "python3"
  },
  "language_info": {
   "codemirror_mode": {
    "name": "ipython",
    "version": 3
   },
   "file_extension": ".py",
   "mimetype": "text/x-python",
   "name": "python",
   "nbconvert_exporter": "python",
   "pygments_lexer": "ipython3",
   "version": "3.9.12"
  },
  "orig_nbformat": 4,
  "vscode": {
   "interpreter": {
    "hash": "9786cd5202a3e1134faf33328be1fafbd986456535c4edb94dc71700d3957bf9"
   }
  }
 },
 "nbformat": 4,
 "nbformat_minor": 2
}

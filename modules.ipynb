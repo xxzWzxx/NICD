{
 "cells": [
  {
   "cell_type": "code",
   "execution_count": 1,
   "metadata": {},
   "outputs": [
    {
     "name": "stdout",
     "output_type": "stream",
     "text": [
      "Use device cpu\n"
     ]
    }
   ],
   "source": [
    "import torch\n",
    "import numpy as np\n",
    "from torch import nn\n",
    "import matplotlib.pyplot as plt\n",
    "import seaborn as sns\n",
    "import os\n",
    "sns.set_style('white')\n",
    "from torch.utils.data import DataLoader\n",
    "\n",
    "device = torch.device('cuda:0' if torch.cuda.is_available() else 'cpu')\n",
    "print(f\"Use device {device}\")"
   ]
  },
  {
   "cell_type": "markdown",
   "metadata": {},
   "source": [
    "### Generate data"
   ]
  },
  {
   "cell_type": "code",
   "execution_count": 2,
   "metadata": {},
   "outputs": [],
   "source": [
    "class DataModule():\n",
    "    def __init__(self, num_observatiosn=2000, batch_size=128, num_workers=2, is_train=True):\n",
    "        self.N = num_observatiosn\n",
    "        self.batch_size = batch_size\n",
    "        self.num_workers = num_workers\n",
    "        self.is_train = is_train\n",
    "\n",
    "    def generate_orgin(self, batch_size: int) -> torch.Tensor:\n",
    "        \"\"\"Generate original data.\"\"\"\n",
    "        raise NotImplementedError\n",
    "\n",
    "    def _generate_data(self, iterations=3):\n",
    "        self.origin = self.generate_orgin(self.N)\n",
    "        d = self.origin.clone()\n",
    "        w_size = d.shape[1]\n",
    "        for i in range(iterations):\n",
    "            W = np.random.uniform(-1, 1, size=(w_size, w_size))\n",
    "            d = torch.tanh(d @ W)\n",
    "        self.data = d.to(torch.float32)\n",
    "\n",
    "    def get_dataloader(self, iterations=3):\n",
    "        self._generate_data(iterations=iterations)\n",
    "        return DataLoader((self.data, self.generate_orgin(self.N)), batch_size=self.batch_size, \\\n",
    "                          num_workers=self.num_workers, shuffle=self.is_train)\n",
    "    \n",
    "    def show_distribution(self, data: torch.Tensor, nrows: int, ncols: int, fig_path=None):\n",
    "        assert data.shape[1] == nrows*ncols, \"The number of subplots does not match the number of data.\"\n",
    "        fig, axs = plt.subplots(nrows, ncols, figsize=(ncols*4, nrows*4))\n",
    "        axs = axs.reshape((nrows, ncols))\n",
    "        for r in range(nrows):\n",
    "            for c in range(ncols):\n",
    "                idx = r * ncols + c\n",
    "                sns.histplot(data[:, idx], ax=axs[r, c])\n",
    "        if fig_path is not None:\n",
    "            fig.savefig(fig_path)\n",
    "\n",
    "\n",
    "class Data_dim2(DataModule):\n",
    "    def __init__(self, num_observatiosn=2000, batch_size=128, num_workers=2, is_train=True):\n",
    "        super().__init__(num_observatiosn, batch_size, num_workers, is_train)\n",
    "    \n",
    "    def generate_orgin(self, batch_size) -> torch.Tensor:\n",
    "        size = (batch_size, 1)\n",
    "        d1 = np.random.uniform(-1, 1, size)\n",
    "        d2 = np.random.exponential(1, size)\n",
    "        origin = torch.tensor(np.concatenate([d1, d2], axis=1), dtype=torch.float32)\n",
    "        return origin"
   ]
  },
  {
   "cell_type": "markdown",
   "metadata": {},
   "source": [
    "### MMD\n",
    "Can consider use multiple kernels in the MMD-GAN"
   ]
  },
  {
   "cell_type": "code",
   "execution_count": 3,
   "metadata": {},
   "outputs": [],
   "source": [
    "def rbf_kernel(X, Y, gamma):\n",
    "    \"\"\"\n",
    "    Calculate the RBF kernel of the given data X and Y\n",
    "    \n",
    "    Args\n",
    "    ----\n",
    "    X, Y: torch.Tensor\n",
    "        The target data\n",
    "    gamma: float\n",
    "        Inverse of the bandwidth (1/sigma)\n",
    "        \n",
    "    Returns\n",
    "    -------\n",
    "    \"\"\"\n",
    "    assert X.shape[1] == Y.shape[1], \"The data should have the same dimension.\"\n",
    "\n",
    "    # Calculate the Euclidean distance between the every pair of data in X and Y\n",
    "    K = ((X[: ,np.newaxis, :] - Y[np.newaxis, :, :])**2).sum(axis=2)\n",
    "    if gamma is None:\n",
    "        gamma = 1.0 / X.shape[1]\n",
    "    \n",
    "    K *= -gamma \n",
    "    return torch.exp(K)\n",
    "\n",
    "def mmd2(X, Y, kernel=rbf_kernel, gamma=10):\n",
    "    K_xx, K_xy, K_yy = kernel(X, X, gamma), kernel(X, Y, gamma), kernel(Y, Y, gamma)\n",
    "    n = X.shape[0]\n",
    "    numerator = n * (n - 1)\n",
    "    return K_xx.sum() / numerator - (2*K_xy.sum())  / numerator + K_yy.sum() / numerator\n",
    "\n",
    "def mmd(X, Y, kernel=rbf_kernel, **kwargs):\n",
    "    return mmd2(X, Y, kernel, **kwargs)**(0.5)"
   ]
  },
  {
   "cell_type": "markdown",
   "metadata": {},
   "source": [
    "### Network"
   ]
  },
  {
   "cell_type": "code",
   "execution_count": 4,
   "metadata": {},
   "outputs": [],
   "source": [
    "class Encoder(nn.Module):\n",
    "    def __init__(self, input_size):\n",
    "        super().__init__()\n",
    "        self.net = nn.Sequential(\n",
    "            nn.Linear(input_size, 40),\n",
    "            nn.ReLU(),\n",
    "            nn.Linear(40, 40),\n",
    "            nn.ReLU(),\n",
    "            nn.Linear(40, 40),\n",
    "            nn.ReLU(),\n",
    "            nn.Linear(40, input_size),\n",
    "        )\n",
    "    \n",
    "    def __getitem__(self, idx):\n",
    "        return self.net[idx]\n",
    "    \n",
    "    def forward(self, X):\n",
    "        return self.net(X)\n",
    "\n",
    "def weight_init(m: nn.Module):\n",
    "    if type(m) == nn.Linear:\n",
    "        nn.init.xavier_normal_(m.weight.data)\n",
    "\n",
    "def get_net(input_size):\n",
    "    net = Encoder(input_size=input_size).to(device)\n",
    "    net.apply(weight_init)\n",
    "    return net"
   ]
  },
  {
   "cell_type": "markdown",
   "metadata": {},
   "source": [
    "### Train"
   ]
  },
  {
   "cell_type": "code",
   "execution_count": 5,
   "metadata": {},
   "outputs": [],
   "source": [
    "batch_size = 256\n",
    "data = Data_dim2(num_observatiosn=2000, batch_size=batch_size)\n",
    "train_loader = data.get_dataloader(3)\n",
    "num_epochs = 1000\n",
    "loss = mmd"
   ]
  },
  {
   "cell_type": "code",
   "execution_count": 6,
   "metadata": {},
   "outputs": [],
   "source": [
    "def train(num_epochs, train_loader, device, loss, net, lr, gamma, wd=0, betas=(0.9, 0.999), fig_path=None, verbose=False):\n",
    "    # configure optimizer\n",
    "    optimizer = torch.optim.Adam(net.parameters(), betas=betas,lr=lr, weight_decay=wd)\n",
    "\n",
    "    loss_list = []\n",
    "    for epoch in range(num_epochs):\n",
    "        epoch_loss = []\n",
    "        for X, y in train_loader:\n",
    "            X, y = X.to(device=device), y.to(device=device)\n",
    "            l = loss(net(X), y, gamma=gamma)\n",
    "            l.backward()\n",
    "            optimizer.step()\n",
    "            epoch_loss.append(l.item())   \n",
    "        loss_list.append(np.array(epoch_loss).mean())\n",
    "\n",
    "        if verbose and (epoch + 1) % 10 == 0:\n",
    "            print(f'[{epoch+1}/{num_epochs}] Loss: {loss_list[-1]}')\n",
    "    \n",
    "    fig, ax = plt.subplots()\n",
    "    sns.lineplot(data=loss_list, ax=ax)\n",
    "    if fig_path is not None:\n",
    "        fig.savefig(fig_path)"
   ]
  },
  {
   "cell_type": "code",
   "execution_count": 10,
   "metadata": {},
   "outputs": [
    {
     "name": "stdout",
     "output_type": "stream",
     "text": [
      "[10/500] Loss: 0.563997209072113\n",
      "[20/500] Loss: 0.49416840076446533\n",
      "[30/500] Loss: 0.4683911204338074\n",
      "[40/500] Loss: 0.4231281578540802\n",
      "[50/500] Loss: 0.455720454454422\n",
      "[60/500] Loss: 0.2907419502735138\n",
      "[70/500] Loss: 0.45215338468551636\n",
      "[80/500] Loss: 0.4514535069465637\n",
      "[90/500] Loss: 0.4510398209095001\n",
      "[100/500] Loss: 0.4507850706577301\n",
      "[110/500] Loss: 0.13425658643245697\n",
      "[120/500] Loss: 0.4505179226398468\n",
      "[130/500] Loss: 0.11346731334924698\n",
      "[140/500] Loss: 0.45040640234947205\n",
      "[150/500] Loss: 0.10300086438655853\n",
      "[160/500] Loss: 0.09972591698169708\n",
      "[170/500] Loss: 0.45033714175224304\n",
      "[180/500] Loss: 0.45032405853271484\n",
      "[190/500] Loss: 0.0938393771648407\n",
      "[200/500] Loss: 0.4503079950809479\n",
      "[210/500] Loss: 0.09204759448766708\n",
      "[220/500] Loss: 0.091451495885849\n",
      "[230/500] Loss: 0.4502951502799988\n",
      "[240/500] Loss: 0.4502927362918854\n",
      "[250/500] Loss: 0.45029085874557495\n",
      "[260/500] Loss: 0.4502893388271332\n",
      "[270/500] Loss: 0.45028820633888245\n",
      "[280/500] Loss: 0.08981772512197495\n",
      "[290/500] Loss: 0.08970966190099716\n",
      "[300/500] Loss: 0.45028629899024963\n",
      "[310/500] Loss: 0.4502858519554138\n",
      "[320/500] Loss: 0.08949019014835358\n",
      "[330/500] Loss: 0.0894419327378273\n",
      "[340/500] Loss: 0.450284868478775\n",
      "[350/500] Loss: 0.08936511725187302\n",
      "[360/500] Loss: 0.08933749794960022\n",
      "[370/500] Loss: 0.45028430223464966\n",
      "[380/500] Loss: 0.0892951712012291\n",
      "[390/500] Loss: 0.4502839744091034\n",
      "[400/500] Loss: 0.08926590532064438\n",
      "[410/500] Loss: 0.08925381302833557\n",
      "[420/500] Loss: 0.45028355717658997\n",
      "[430/500] Loss: 0.08923468738794327\n",
      "[440/500] Loss: 0.08922774344682693\n",
      "[450/500] Loss: 0.0892208144068718\n",
      "[460/500] Loss: 0.0892152190208435\n",
      "[470/500] Loss: 0.08921004831790924\n",
      "[480/500] Loss: 0.4502829909324646\n",
      "[490/500] Loss: 0.08920211344957352\n",
      "[500/500] Loss: 0.08919890969991684\n"
     ]
    },
    {
     "data": {
      "image/png": "[encoded data removed]",
      "text/plain": [
       "<Figure size 432x288 with 1 Axes>"
      ]
     },
     "metadata": {},
     "output_type": "display_data"
    }
   ],
   "source": [
    "train(500, train_loader, device, loss, get_net(data.data.shape[1]), lr=1e-3, gamma=100, verbose=True)"
   ]
  },
  {
   "cell_type": "code",
   "execution_count": 7,
   "metadata": {},
   "outputs": [],
   "source": [
    "# The hyper parameter to be adjusted\n",
    "gammas = [1, 10, 100, 1000]\n",
    "lrs = [1e-5, 1e-4, 1e-3, 1e-2, 1e-1, 1]   "
   ]
  },
  {
   "cell_type": "code",
   "execution_count": 8,
   "metadata": {},
   "outputs": [
    {
     "name": "stdout",
     "output_type": "stream",
     "text": [
      "Finish lr = 1e-05, gamma = 1\n",
      "Unexpected exception formatting exception. Falling back to standard exception\n"
     ]
    },
    {
     "name": "stderr",
     "output_type": "stream",
     "text": [
      "Traceback (most recent call last):\n",
      "  File \"<string>\", line 1, in <module>\n",
      "  File \"/Users/andywong/opt/anaconda3/envs/d2l/lib/python3.8/multiprocessing/spawn.py\", line 116, in spawn_main\n",
      "Traceback (most recent call last):\n",
      "  File \"<string>\", line 1, in <module>\n",
      "  File \"/Users/andywong/opt/anaconda3/envs/d2l/lib/python3.8/multiprocessing/spawn.py\", line 116, in spawn_main\n",
      "    exitcode = _main(fd, parent_sentinel)\n",
      "  File \"/Users/andywong/opt/anaconda3/envs/d2l/lib/python3.8/multiprocessing/spawn.py\", line 126, in _main\n",
      "    self = reduction.pickle.load(from_parent)\n",
      "  File \"/Users/andywong/opt/anaconda3/envs/d2l/lib/python3.8/site-packages/torch/__init__.py\", line 721, in <module>\n",
      "    exitcode = _main(fd, parent_sentinel)\n",
      "  File \"/Users/andywong/opt/anaconda3/envs/d2l/lib/python3.8/multiprocessing/spawn.py\", line 126, in _main\n",
      "    _C._initExtension(manager_path())\n",
      "  File \"/Users/andywong/opt/anaconda3/envs/d2l/lib/python3.8/site-packages/torch/cuda/__init__.py\", line 759, in <module>\n",
      "    self = reduction.pickle.load(from_parent)\n",
      "  File \"/Users/andywong/opt/anaconda3/envs/d2l/lib/python3.8/site-packages/torch/__init__.py\", line 721, in <module>\n",
      "    from . import amp\n",
      "  File \"/Users/andywong/opt/anaconda3/envs/d2l/lib/python3.8/site-packages/torch/cuda/amp/__init__.py\", line 1, in <module>\n",
      "    _C._initExtension(manager_path())\n",
      "  File \"/Users/andywong/opt/anaconda3/envs/d2l/lib/python3.8/site-packages/torch/cuda/__init__.py\", line 759, in <module>\n",
      "    from .autocast_mode import autocast, custom_fwd, custom_bwd  # noqa: F401\n",
      "  File \"/Users/andywong/opt/anaconda3/envs/d2l/lib/python3.8/site-packages/torch/cuda/amp/autocast_mode.py\", line 5, in <module>\n",
      "    from . import amp\n",
      "  File \"/Users/andywong/opt/anaconda3/envs/d2l/lib/python3.8/site-packages/torch/cuda/amp/__init__.py\", line 1, in <module>\n",
      "    from .autocast_mode import autocast, custom_fwd, custom_bwd  # noqa: F401\n",
      "  File \"/Users/andywong/opt/anaconda3/envs/d2l/lib/python3.8/site-packages/torch/cuda/amp/autocast_mode.py\", line 5, in <module>\n",
      "    import numpy as np\n",
      "  File \"/Users/andywong/opt/anaconda3/envs/d2l/lib/python3.8/site-packages/numpy/__init__.py\", line 161, in <module>\n",
      "    import numpy as np\n",
      "  File \"/Users/andywong/opt/anaconda3/envs/d2l/lib/python3.8/site-packages/numpy/__init__.py\", line 161, in <module>\n",
      "    from . import random\n",
      "  File \"/Users/andywong/opt/anaconda3/envs/d2l/lib/python3.8/site-packages/numpy/random/__init__.py\", line 180, in <module>\n",
      "    from . import random\n",
      "  File \"/Users/andywong/opt/anaconda3/envs/d2l/lib/python3.8/site-packages/numpy/random/__init__.py\", line 180, in <module>\n",
      "    from . import _pickle\n",
      "    from . import _pickle\n",
      "  File \"/Users/andywong/opt/anaconda3/envs/d2l/lib/python3.8/site-packages/numpy/random/_pickle.py\", line 1, in <module>\n",
      "  File \"/Users/andywong/opt/anaconda3/envs/d2l/lib/python3.8/site-packages/numpy/random/_pickle.py\", line 1, in <module>\n",
      "    from .mtrand import RandomState    \n",
      "from .mtrand import RandomState\n",
      "  File \"mtrand.pyx\", line 1, in init numpy.random.mtrand\n",
      "  File \"mtrand.pyx\", line 1, in init numpy.random.mtrand\n",
      "  File \"bit_generator.pyx\", line 40, in init numpy.random.bit_generator\n",
      "  File \"_bounded_integers.pyx\", line 1, in init numpy.random._bounded_integers\n",
      "  File \"<frozen importlib._bootstrap>\", line 194, in _lock_unlock_module\n",
      "  File \"/Users/andywong/opt/anaconda3/envs/d2l/lib/python3.8/secrets.py\", line 19, in <module>\n",
      "KeyboardInterrupt\n",
      "    from hmac import compare_digest\n",
      "  File \"/Users/andywong/opt/anaconda3/envs/d2l/lib/python3.8/hmac.py\", line 9, in <module>\n",
      "    import _hashlib as _hashopenssl\n",
      "  File \"<frozen importlib._bootstrap>\", line 991, in _find_and_load\n",
      "  File \"<frozen importlib._bootstrap>\", line 971, in _find_and_load_unlocked\n",
      "  File \"<frozen importlib._bootstrap>\", line 914, in _find_spec\n",
      "  File \"<frozen importlib._bootstrap_external>\", line 1407, in find_spec\n",
      "  File \"<frozen importlib._bootstrap_external>\", line 1379, in _get_spec\n",
      "  File \"<frozen importlib._bootstrap_external>\", line 1520, in find_spec\n",
      "KeyboardInterrupt\n",
      "Traceback (most recent call last):\n",
      "  File \"/Users/andywong/opt/anaconda3/envs/d2l/lib/python3.8/site-packages/IPython/core/interactiveshell.py\", line 3369, in run_code\n",
      "    exec(code_obj, self.user_global_ns, self.user_ns)\n",
      "  File \"/var/folders/dm/dsgkzvfj4132xk8ggvns4tw80000gn/T/ipykernel_54735/4138155863.py\", line 6, in <cell line: 1>\n",
      "    train(num_epochs, train_loader, device, loss, net, lr=lr, gamma=gamma, fig_path=loss_path)\n",
      "  File \"/var/folders/dm/dsgkzvfj4132xk8ggvns4tw80000gn/T/ipykernel_54735/3081727301.py\", line 7, in train\n",
      "    for X, y in train_loader:\n",
      "  File \"/Users/andywong/opt/anaconda3/envs/d2l/lib/python3.8/site-packages/torch/utils/data/dataloader.py\", line 530, in __next__\n",
      "    data = self._next_data()\n",
      "  File \"/Users/andywong/opt/anaconda3/envs/d2l/lib/python3.8/site-packages/torch/utils/data/dataloader.py\", line 1207, in _next_data\n",
      "    idx, data = self._get_data()\n",
      "  File \"/Users/andywong/opt/anaconda3/envs/d2l/lib/python3.8/site-packages/torch/utils/data/dataloader.py\", line 1173, in _get_data\n",
      "    success, data = self._try_get_data()\n",
      "  File \"/Users/andywong/opt/anaconda3/envs/d2l/lib/python3.8/site-packages/torch/utils/data/dataloader.py\", line 1011, in _try_get_data\n",
      "    data = self._data_queue.get(timeout=timeout)\n",
      "  File \"/Users/andywong/opt/anaconda3/envs/d2l/lib/python3.8/multiprocessing/queues.py\", line 107, in get\n",
      "    if not self._poll(timeout):\n",
      "  File \"/Users/andywong/opt/anaconda3/envs/d2l/lib/python3.8/multiprocessing/connection.py\", line 257, in poll\n",
      "    return self._poll(timeout)\n",
      "  File \"/Users/andywong/opt/anaconda3/envs/d2l/lib/python3.8/multiprocessing/connection.py\", line 424, in _poll\n",
      "    r = wait([self], timeout)\n",
      "  File \"/Users/andywong/opt/anaconda3/envs/d2l/lib/python3.8/multiprocessing/connection.py\", line 931, in wait\n",
      "    ready = selector.select(timeout)\n",
      "  File \"/Users/andywong/opt/anaconda3/envs/d2l/lib/python3.8/selectors.py\", line 415, in select\n",
      "    fd_event_list = self._selector.poll(timeout)\n",
      "KeyboardInterrupt\n",
      "\n",
      "During handling of the above exception, another exception occurred:\n",
      "\n",
      "Traceback (most recent call last):\n",
      "  File \"/Users/andywong/opt/anaconda3/envs/d2l/lib/python3.8/site-packages/executing/executing.py\", line 317, in executing\n",
      "    args = executing_cache[key]\n",
      "KeyError: (<code object run_code at 0x7fe5c0430be0, file \"/Users/andywong/opt/anaconda3/envs/d2l/lib/python3.8/site-packages/IPython/core/interactiveshell.py\", line 3333>, 140624749857760, 74)\n",
      "\n",
      "During handling of the above exception, another exception occurred:\n",
      "\n",
      "Traceback (most recent call last):\n",
      "  File \"/Users/andywong/opt/anaconda3/envs/d2l/lib/python3.8/site-packages/IPython/core/interactiveshell.py\", line 1982, in showtraceback\n",
      "    stb = self.InteractiveTB.structured_traceback(\n",
      "  File \"/Users/andywong/opt/anaconda3/envs/d2l/lib/python3.8/site-packages/IPython/core/ultratb.py\", line 1118, in structured_traceback\n",
      "    return FormattedTB.structured_traceback(\n",
      "  File \"/Users/andywong/opt/anaconda3/envs/d2l/lib/python3.8/site-packages/IPython/core/ultratb.py\", line 1012, in structured_traceback\n",
      "    return VerboseTB.structured_traceback(\n",
      "  File \"/Users/andywong/opt/anaconda3/envs/d2l/lib/python3.8/site-packages/IPython/core/ultratb.py\", line 865, in structured_traceback\n",
      "    formatted_exception = self.format_exception_as_a_whole(etype, evalue, etb, number_of_lines_of_context,\n",
      "  File \"/Users/andywong/opt/anaconda3/envs/d2l/lib/python3.8/site-packages/IPython/core/ultratb.py\", line 799, in format_exception_as_a_whole\n",
      "    self.get_records(etb, number_of_lines_of_context, tb_offset) if etb else []\n",
      "  File \"/Users/andywong/opt/anaconda3/envs/d2l/lib/python3.8/site-packages/IPython/core/ultratb.py\", line 854, in get_records\n",
      "    return list(stack_data.FrameInfo.stack_data(etb, options=options))[tb_offset:]\n",
      "  File \"/Users/andywong/opt/anaconda3/envs/d2l/lib/python3.8/site-packages/stack_data/core.py\", line 565, in stack_data\n",
      "    yield from collapse_repeated(\n",
      "  File \"/Users/andywong/opt/anaconda3/envs/d2l/lib/python3.8/site-packages/stack_data/utils.py\", line 84, in collapse_repeated\n",
      "    yield from map(mapper, original_group)\n",
      "  File \"/Users/andywong/opt/anaconda3/envs/d2l/lib/python3.8/site-packages/stack_data/core.py\", line 555, in mapper\n",
      "    return cls(f, options)\n",
      "  File \"/Users/andywong/opt/anaconda3/envs/d2l/lib/python3.8/site-packages/stack_data/core.py\", line 520, in __init__\n",
      "    self.executing = Source.executing(frame_or_tb)\n",
      "  File \"/Users/andywong/opt/anaconda3/envs/d2l/lib/python3.8/site-packages/executing/executing.py\", line 369, in executing\n",
      "    args = find(source=cls.for_frame(frame), retry_cache=True)\n",
      "  File \"/Users/andywong/opt/anaconda3/envs/d2l/lib/python3.8/site-packages/executing/executing.py\", line 252, in for_frame\n",
      "    return cls.for_filename(frame.f_code.co_filename, frame.f_globals or {}, use_cache)\n",
      "  File \"/Users/andywong/opt/anaconda3/envs/d2l/lib/python3.8/site-packages/executing/executing.py\", line 270, in for_filename\n",
      "    result = source_cache[filename] = cls._for_filename_and_lines(filename, lines)\n",
      "  File \"/Users/andywong/opt/anaconda3/envs/d2l/lib/python3.8/site-packages/executing/executing.py\", line 281, in _for_filename_and_lines\n",
      "    result = source_cache[(filename, lines)] = cls(filename, lines)\n",
      "  File \"/Users/andywong/opt/anaconda3/envs/d2l/lib/python3.8/site-packages/stack_data/core.py\", line 79, in __init__\n",
      "    super(Source, self).__init__(*args, **kwargs)\n",
      "  File \"/Users/andywong/opt/anaconda3/envs/d2l/lib/python3.8/site-packages/executing/executing.py\", line 228, in __init__\n",
      "    self.tree = ast.parse(ast_text, filename=filename)\n",
      "  File \"/Users/andywong/opt/anaconda3/envs/d2l/lib/python3.8/ast.py\", line 47, in parse\n",
      "    return compile(source, filename, mode, flags,\n",
      "  File \"/Users/andywong/opt/anaconda3/envs/d2l/lib/python3.8/site-packages/torch/utils/data/_utils/signal_handling.py\", line 66, in handler\n",
      "    _error_if_any_worker_fails()\n",
      "RuntimeError: DataLoader worker (pid 59585) is killed by signal: Interrupt: 2. \n"
     ]
    },
    {
     "data": {
      "image/png": "[encoded data removed]",
      "text/plain": [
       "<Figure size 432x288 with 1 Axes>"
      ]
     },
     "metadata": {},
     "output_type": "display_data"
    },
    {
     "data": {
      "image/png": "[encoded data removed]",
      "text/plain": [
       "<Figure size 576x288 with 2 Axes>"
      ]
     },
     "metadata": {},
     "output_type": "display_data"
    }
   ],
   "source": [
    "for lr in lrs:\n",
    "    for gamma in gammas:\n",
    "        loss_path = os.path.join('results', 'tanh', 'loss', str(lr)+\"|\"+str(gamma)+\".png\")\n",
    "        output_path = os.path.join('results', 'tanh', 'output', str(lr)+\"|\"+str(gamma)+\".png\")\n",
    "        net = get_net(data.data.shape[1])\n",
    "        train(num_epochs, train_loader, device, loss, net, lr=lr, gamma=gamma, fig_path=loss_path)\n",
    "        with torch.no_grad():\n",
    "            y = net(data.data.to(device=device))\n",
    "            data.show_distribution(y.cpu(), 1, 2, fig_path=output_path)\n",
    "        print(f'Finish lr = {lr}, gamma = {gamma}')"
   ]
  },
  {
   "cell_type": "code",
   "execution_count": null,
   "metadata": {},
   "outputs": [
    {
     "data": {
      "image/png": "[encoded data removed]",
      "text/plain": [
       "<Figure size 576x288 with 2 Axes>"
      ]
     },
     "metadata": {},
     "output_type": "display_data"
    }
   ],
   "source": [
    "data.show_distribution(y.cpu(), 1, 2, fig_path='test.png')"
   ]
  },
  {
   "cell_type": "code",
   "execution_count": null,
   "metadata": {},
   "outputs": [
    {
     "data": {
      "image/png": "[encoded data removed]",
      "text/plain": [
       "<Figure size 576x288 with 2 Axes>"
      ]
     },
     "metadata": {
      "needs_background": "light"
     },
     "output_type": "display_data"
    }
   ],
   "source": [
    "data.show_distribution(data.origin, 1, 2)"
   ]
  }
 ],
 "metadata": {
  "kernelspec": {
   "display_name": "Python 3.8.12 ('d2l')",
   "language": "python",
   "name": "python3"
  },
  "language_info": {
   "codemirror_mode": {
    "name": "ipython",
    "version": 3
   },
   "file_extension": ".py",
   "mimetype": "text/x-python",
   "name": "python",
   "nbconvert_exporter": "python",
   "pygments_lexer": "ipython3",
   "version": "3.8.12"
  },
  "orig_nbformat": 4,
  "vscode": {
   "interpreter": {
    "hash": "e378691804b4ba062c90651a698bbb0bd3333af9d58844d852bb6a38926609e9"
   }
  }
 },
 "nbformat": 4,
 "nbformat_minor": 2
}

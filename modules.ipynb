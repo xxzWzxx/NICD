{
 "cells": [
  {
   "cell_type": "code",
   "execution_count": 20,
   "metadata": {},
   "outputs": [
    {
     "name": "stdout",
     "output_type": "stream",
     "text": [
      "Use device cpu\n"
     ]
    }
   ],
   "source": [
    "import torch\n",
    "import numpy as np\n",
    "from torch import nn\n",
    "import matplotlib.pyplot as plt\n",
    "import seaborn as sns\n",
    "sns.set_style('white')\n",
    "from torch.utils.data import DataLoader\n",
    "\n",
    "device = torch.device('cuda:0' if torch.cuda.is_available() else 'cpu')\n",
    "print(f\"Use device {device}\")"
   ]
  },
  {
   "cell_type": "markdown",
   "metadata": {},
   "source": [
    "### Generate data"
   ]
  },
  {
   "cell_type": "code",
   "execution_count": 2,
   "metadata": {},
   "outputs": [],
   "source": [
    "class DataModule():\n",
    "    def __init__(self, num_observatiosn=2000, batch_size=128, num_workers=2, is_train=True):\n",
    "        self.N = num_observatiosn\n",
    "        self.batch_size = batch_size\n",
    "        self.num_workers = num_workers\n",
    "        self.is_train = is_train\n",
    "\n",
    "    def generate_orgin(self, batch_size: int) -> torch.Tensor:\n",
    "        \"\"\"Generate original data.\"\"\"\n",
    "        raise NotImplementedError\n",
    "\n",
    "    def _generate_data(self, iterations=3):\n",
    "        self.origin = self.generate_orgin(self.N)\n",
    "        d = self.origin.clone()\n",
    "        w_size = d.shape[1]\n",
    "        for i in range(iterations):\n",
    "            W = np.random.uniform(-1, 1, size=(w_size, w_size))\n",
    "            d = torch.tanh(d @ W)\n",
    "        self.data = d.to(torch.float32)\n",
    "\n",
    "    def get_dataloader(self, iterations=3):\n",
    "        self._generate_data(iterations=iterations)\n",
    "        return DataLoader((self.data, self.generate_orgin(self.N)), batch_size=self.batch_size, \\\n",
    "                          num_workers=self.num_workers, shuffle=self.is_train)\n",
    "    \n",
    "    def show_distribution(self, data: torch.Tensor, nrows: int, ncols: int):\n",
    "        assert data.shape[1] == nrows*ncols, \"The number of subplots does not match the number of data.\"\n",
    "        fig, axs = plt.subplots(nrows, ncols, figsize=(ncols*4, nrows*4))\n",
    "        axs = axs.reshape((nrows, ncols))\n",
    "        for r in range(nrows):\n",
    "            for c in range(ncols):\n",
    "                idx = r * ncols + c\n",
    "                sns.histplot(data[:, idx], ax=axs[r, c])\n",
    "\n",
    "\n",
    "class Data_dim2(DataModule):\n",
    "    def __init__(self, num_observatiosn=2000, batch_size=128, num_workers=2, is_train=True):\n",
    "        super().__init__(num_observatiosn, batch_size, num_workers, is_train)\n",
    "    \n",
    "    def generate_orgin(self, batch_size) -> torch.Tensor:\n",
    "        size = (batch_size, 1)\n",
    "        d1 = np.random.uniform(-1, 1, size)\n",
    "        d2 = np.random.exponential(1, size)\n",
    "        origin = torch.tensor(np.concatenate([d1, d2], axis=1), dtype=torch.float32)\n",
    "        return origin"
   ]
  },
  {
   "cell_type": "markdown",
   "metadata": {},
   "source": [
    "### MMD\n",
    "Can consider use multiple kernels in the MMD-GAN"
   ]
  },
  {
   "cell_type": "code",
   "execution_count": 3,
   "metadata": {},
   "outputs": [],
   "source": [
    "def rbf_kernel(X, Y, gamma):\n",
    "    \"\"\"\n",
    "    Calculate the RBF kernel of the given data X and Y\n",
    "    \n",
    "    Args\n",
    "    ----\n",
    "    X, Y: torch.Tensor\n",
    "        The target data\n",
    "    gamma: float\n",
    "        Inverse of the bandwidth (1/sigma)\n",
    "        \n",
    "    Returns\n",
    "    -------\n",
    "    \"\"\"\n",
    "    assert X.shape[1] == Y.shape[1], \"The data should have the same dimension.\"\n",
    "\n",
    "    # Calculate the Euclidean distance between the every pair of data in X and Y\n",
    "    K = ((X[: ,np.newaxis, :] - Y[np.newaxis, :, :])**2).sum(axis=2)\n",
    "    if gamma is None:\n",
    "        gamma = 1.0 / X.shape[1]\n",
    "    \n",
    "    K *= -gamma \n",
    "    return torch.exp(K)\n",
    "\n",
    "def mmd2(X, Y, kernel=rbf_kernel, gamma=10):\n",
    "    K_xx, K_xy, K_yy = kernel(X, X, gamma), kernel(X, Y, gamma), kernel(Y, Y, gamma)\n",
    "    n = X.shape[0]\n",
    "    numerator = n * (n - 1)\n",
    "    return K_xx.sum() / numerator - (2*K_xy.sum())  / numerator + K_yy.sum() / numerator\n",
    "\n",
    "def mmd(X, Y, kernel=rbf_kernel, **kwargs):\n",
    "    return mmd2(X, Y, kernel, **kwargs)**(0.5)"
   ]
  },
  {
   "cell_type": "markdown",
   "metadata": {},
   "source": [
    "### Network"
   ]
  },
  {
   "cell_type": "code",
   "execution_count": 12,
   "metadata": {},
   "outputs": [],
   "source": [
    "class Encoder(nn.Module):\n",
    "    def __init__(self, input_size):\n",
    "        super().__init__()\n",
    "        self.net = nn.Sequential(\n",
    "            nn.Linear(input_size, 40),\n",
    "            nn.ReLU(),\n",
    "            nn.Linear(40, 40),\n",
    "            nn.ReLU(),\n",
    "            nn.Linear(40, 40),\n",
    "            nn.ReLU(),\n",
    "            nn.Linear(40, input_size),\n",
    "        )\n",
    "    \n",
    "    def __getitem__(self, idx):\n",
    "        return self.net[idx]\n",
    "    \n",
    "    def forward(self, X):\n",
    "        return self.net(X)\n",
    "\n",
    "def weight_init(m: nn.Module):\n",
    "    if type(m) == nn.Linear:\n",
    "        nn.init.xavier_normal_(m.weight.data)\n",
    "\n",
    "def get_net(input_size):\n",
    "    net = Encoder(input_size=input_size).to(device)\n",
    "    net.apply(weight_init)\n",
    "    return net"
   ]
  },
  {
   "cell_type": "markdown",
   "metadata": {},
   "source": [
    "### Train"
   ]
  },
  {
   "cell_type": "code",
   "execution_count": 5,
   "metadata": {},
   "outputs": [],
   "source": [
    "batch_size = 256\n",
    "data = Data_dim2(num_observatiosn=2000, batch_size=batch_size)\n",
    "train_loader = data.get_dataloader(3)\n",
    "num_epochs = 1000\n",
    "loss = mmd"
   ]
  },
  {
   "cell_type": "code",
   "execution_count": 16,
   "metadata": {},
   "outputs": [],
   "source": [
    "def train(num_epochs, train_loader, device, loss, net, lr, gamma, wd=0, betas=(0.9, 0.999), savefig=None, verbose=False):\n",
    "    # configure optimizer\n",
    "    optimizer = torch.optim.Adam(net.parameters(), betas=betas,lr=lr, weight_decay=wd)\n",
    "\n",
    "    loss_list = []\n",
    "    for epoch in range(num_epochs):\n",
    "        for X, y in train_loader:\n",
    "            X, y = X.to(device=device), y.to(device=device)\n",
    "            l = loss(net(X), net(y), gamma=gamma)\n",
    "            l.backward()\n",
    "            optimizer.step()\n",
    "        \n",
    "            loss_list.append(l.item())\n",
    "\n",
    "        if verbose and (epoch + 1) % 10 == 0:\n",
    "            print(f'[{epoch+1}/{num_epochs}] Loss: {loss_list[-1]}')\n",
    "            \n",
    "    loss_fig = sns.lineplot(data=loss_list)\n",
    "    if savefig is not None:\n",
    "        loss_fig.get_figure().savefig(savefig)"
   ]
  },
  {
   "cell_type": "code",
   "execution_count": 23,
   "metadata": {},
   "outputs": [],
   "source": [
    "# The hyper parameter to be adjusted\n",
    "gammas = [1, 10, 100, 1000]\n",
    "lrs = [1e-5, 1e-4, 1e-3, 1e-2, 1e-1, 1]\n",
    "# for lr in lrs:\n",
    "#     for gamma in gammas:\n",
    "#         net = get_net(data.data.shape[1])\n",
    "#         train(num_epochs, train_loader, device, loss, net, lr=lr, gamma=gamma)\n",
    "        "
   ]
  },
  {
   "cell_type": "code",
   "execution_count": 24,
   "metadata": {},
   "outputs": [
    {
     "name": "stdout",
     "output_type": "stream",
     "text": [
      "1e-05|1\n",
      "1e-05|10\n",
      "1e-05|100\n",
      "1e-05|1000\n",
      "0.0001|1\n",
      "0.0001|10\n",
      "0.0001|100\n",
      "0.0001|1000\n",
      "0.001|1\n",
      "0.001|10\n",
      "0.001|100\n",
      "0.001|1000\n",
      "0.01|1\n",
      "0.01|10\n",
      "0.01|100\n",
      "0.01|1000\n",
      "0.1|1\n",
      "0.1|10\n",
      "0.1|100\n",
      "0.1|1000\n",
      "1|1\n",
      "1|10\n",
      "1|100\n",
      "1|1000\n"
     ]
    }
   ],
   "source": [
    "for lr in lrs:\n",
    "    for gamma in gammas:\n",
    "        print(str(lr)+'|'+str(gamma))"
   ]
  },
  {
   "cell_type": "code",
   "execution_count": 10,
   "metadata": {},
   "outputs": [
    {
     "data": {
      "text/plain": [
       "tensor([[-59.9308,  58.1363],\n",
       "        [ 22.7123,  -6.1160],\n",
       "        [ -8.6335,  16.9200],\n",
       "        ...,\n",
       "        [ -5.7260,  14.7893],\n",
       "        [-37.9868,  39.9134],\n",
       "        [ 27.8415,  -9.9914]])"
      ]
     },
     "execution_count": 10,
     "metadata": {},
     "output_type": "execute_result"
    }
   ],
   "source": [
    "with torch.no_grad():\n",
    "    y = net(data.data.to(device=device))\n",
    "y"
   ]
  },
  {
   "cell_type": "code",
   "execution_count": 11,
   "metadata": {},
   "outputs": [
    {
     "data": {
      "image/png": "[encoded data removed]",
      "text/plain": [
       "<Figure size 576x288 with 2 Axes>"
      ]
     },
     "metadata": {
      "needs_background": "light"
     },
     "output_type": "display_data"
    }
   ],
   "source": [
    "data.show_distribution(y.cpu(), 1, 2)"
   ]
  },
  {
   "cell_type": "code",
   "execution_count": 12,
   "metadata": {},
   "outputs": [
    {
     "data": {
      "image/png": "[encoded data removed]",
      "text/plain": [
       "<Figure size 576x288 with 2 Axes>"
      ]
     },
     "metadata": {
      "needs_background": "light"
     },
     "output_type": "display_data"
    }
   ],
   "source": [
    "data.show_distribution(data.origin, 1, 2)"
   ]
  }
 ],
 "metadata": {
  "kernelspec": {
   "display_name": "Python 3.8.12 ('d2l')",
   "language": "python",
   "name": "python3"
  },
  "language_info": {
   "codemirror_mode": {
    "name": "ipython",
    "version": 3
   },
   "file_extension": ".py",
   "mimetype": "text/x-python",
   "name": "python",
   "nbconvert_exporter": "python",
   "pygments_lexer": "ipython3",
   "version": "3.8.12"
  },
  "orig_nbformat": 4,
  "vscode": {
   "interpreter": {
    "hash": "e378691804b4ba062c90651a698bbb0bd3333af9d58844d852bb6a38926609e9"
   }
  }
 },
 "nbformat": 4,
 "nbformat_minor": 2
}

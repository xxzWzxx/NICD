{
 "cells": [
  {
   "cell_type": "code",
   "execution_count": 1,
   "metadata": {},
   "outputs": [],
   "source": [
    "import torch\n",
    "import numpy as np\n",
    "from torch import nn\n",
    "import matplotlib.pyplot as plt\n",
    "import seaborn as sns\n",
    "from torch.utils.data import DataLoader\n",
    "\n",
    "device = torch.device('cuda:0' if torch.cuda.is_available() else 'cpu')"
   ]
  },
  {
   "cell_type": "markdown",
   "metadata": {},
   "source": [
    "### Generate data"
   ]
  },
  {
   "cell_type": "code",
   "execution_count": 2,
   "metadata": {},
   "outputs": [],
   "source": [
    "class DataModule():\n",
    "    def __init__(self, num_observatiosn=2000, batch_size=128, num_workers=2, is_train=True):\n",
    "        self.N = num_observatiosn\n",
    "        self.batch_size = batch_size\n",
    "        self.num_workers = num_workers\n",
    "        self.is_train = is_train\n",
    "\n",
    "    def generate_orgin(self, batch_size: int) -> torch.Tensor:\n",
    "        \"\"\"Generate original data.\"\"\"\n",
    "        raise NotImplementedError\n",
    "\n",
    "    def _generate_data(self, iterations=3):\n",
    "        self.origin = self.generate_orgin(self.N)\n",
    "        d = self.origin.clone()\n",
    "        w_size = d.shape[1]\n",
    "        for i in range(iterations):\n",
    "            W = np.random.uniform(-1, 1, size=(w_size, w_size))\n",
    "            d = torch.tanh(d @ W)\n",
    "        self.data = d.to(torch.float32)\n",
    "\n",
    "    def get_dataloader(self, iterations=3):\n",
    "        self._generate_data(iterations=iterations)\n",
    "        return DataLoader((self.data, self.generate_orgin(self.N)), batch_size=self.batch_size, \\\n",
    "                          num_workers=self.num_workers, shuffle=self.is_train)\n",
    "    \n",
    "    def show_distribution(self, data: torch.Tensor, nrows: int, ncols: int):\n",
    "        assert data.shape[1] == nrows*ncols, \"The number of subplots does not match the number of data.\"\n",
    "        fig, axs = plt.subplots(nrows, ncols, figsize=(ncols*4, nrows*4))\n",
    "        axs = axs.reshape((nrows, ncols))\n",
    "        for r in range(nrows):\n",
    "            for c in range(ncols):\n",
    "                idx = r * ncols + c\n",
    "                sns.histplot(data[:, idx], ax=axs[r, c])\n",
    "\n",
    "\n",
    "class Data_dim2(DataModule):\n",
    "    def __init__(self, num_observatiosn=2000, batch_size=128, num_workers=2, is_train=True):\n",
    "        super().__init__(num_observatiosn, batch_size, num_workers, is_train)\n",
    "    \n",
    "    def generate_orgin(self, batch_size) -> torch.Tensor:\n",
    "        size = (batch_size, 1)\n",
    "        d1 = np.random.uniform(-1, 1, size)\n",
    "        d2 = np.random.exponential(1, size)\n",
    "        origin = torch.tensor(np.concatenate([d1, d2], axis=1), dtype=torch.float32)\n",
    "        return origin"
   ]
  },
  {
   "cell_type": "markdown",
   "metadata": {},
   "source": [
    "### MMD\n",
    "Can consider use multiple kernels in the MMD-GAN"
   ]
  },
  {
   "cell_type": "code",
   "execution_count": 3,
   "metadata": {},
   "outputs": [],
   "source": [
    "def rbf_kernel(X, Y, gamma):\n",
    "    \"\"\"\n",
    "    Calculate the RBF kernel of the given data X and Y\n",
    "    \n",
    "    Args\n",
    "    ----\n",
    "    X, Y: torch.Tensor\n",
    "        The target data\n",
    "    gamma: float\n",
    "        Inverse of the bandwidth (1/sigma)\n",
    "        \n",
    "    Returns\n",
    "    -------\n",
    "    \"\"\"\n",
    "    assert X.shape[1] == Y.shape[1], \"The data should have the same dimension.\"\n",
    "\n",
    "    # Calculate the Euclidean distance between the every pair of data in X and Y\n",
    "    K = ((X[: ,np.newaxis, :] - Y[np.newaxis, :, :])**2).sum(axis=2)\n",
    "    if gamma is None:\n",
    "        gamma = 1.0 / X.shape[1]\n",
    "    \n",
    "    K *= -gamma \n",
    "    return torch.exp(K)\n",
    "\n",
    "def mmd2(X, Y, kernel=rbf_kernel, gamma=10):\n",
    "    K_xx, K_xy, K_yy = kernel(X, X, gamma), kernel(X, Y, gamma), kernel(Y, Y, gamma)\n",
    "    n = X.shape[0]\n",
    "    numerator = n * (n - 1)\n",
    "    return K_xx.sum() / numerator - (2*K_xy.sum())  / numerator + K_yy.sum() / numerator\n",
    "\n",
    "def mmd(X, Y, kernel=rbf_kernel, **kwargs):\n",
    "    return mmd2(X, Y, kernel, **kwargs)**(0.5)"
   ]
  },
  {
   "cell_type": "markdown",
   "metadata": {},
   "source": [
    "### Network"
   ]
  },
  {
   "cell_type": "code",
   "execution_count": 4,
   "metadata": {},
   "outputs": [],
   "source": [
    "class Encoder(nn.Module):\n",
    "    def __init__(self, input_size):\n",
    "        super().__init__()\n",
    "        self.net = nn.Sequential(\n",
    "            nn.Linear(input_size, 40),\n",
    "            nn.ReLU(),\n",
    "            nn.Linear(40, 40),\n",
    "            nn.ReLU(),\n",
    "            nn.Linear(40, 40),\n",
    "            nn.ReLU(),\n",
    "            nn.Linear(40, input_size),\n",
    "        )\n",
    "    \n",
    "    def __getitem__(self, idx):\n",
    "        return self.net[idx]\n",
    "    \n",
    "    def forward(self, X):\n",
    "        return self.net(X)\n",
    "\n",
    "def weight_init(m: nn.Module):\n",
    "    if type(m) == nn.Linear:\n",
    "        nn.init.xavier_normal_(m.weight.data)"
   ]
  },
  {
   "cell_type": "markdown",
   "metadata": {},
   "source": [
    "### Train"
   ]
  },
  {
   "cell_type": "code",
   "execution_count": 5,
   "metadata": {},
   "outputs": [],
   "source": [
    "batch_size = 256\n",
    "data = Data_dim2(num_observatiosn=2000, batch_size=batch_size)\n",
    "train_loader = data.get_dataloader(3)"
   ]
  },
  {
   "cell_type": "code",
   "execution_count": 6,
   "metadata": {},
   "outputs": [
    {
     "data": {
      "text/plain": [
       "Encoder(\n",
       "  (net): Sequential(\n",
       "    (0): Linear(in_features=2, out_features=40, bias=True)\n",
       "    (1): ReLU()\n",
       "    (2): Linear(in_features=40, out_features=40, bias=True)\n",
       "    (3): ReLU()\n",
       "    (4): Linear(in_features=40, out_features=40, bias=True)\n",
       "    (5): ReLU()\n",
       "    (6): Linear(in_features=40, out_features=2, bias=True)\n",
       "  )\n",
       ")"
      ]
     },
     "execution_count": 6,
     "metadata": {},
     "output_type": "execute_result"
    }
   ],
   "source": [
    "net = Encoder(input_size=data.data.shape[1]).to(device)\n",
    "net.apply(weight_init)"
   ]
  },
  {
   "cell_type": "code",
   "execution_count": 7,
   "metadata": {},
   "outputs": [],
   "source": [
    "num_epochs = 1000\n",
    "loss = mmd\n",
    "gamma = 100"
   ]
  },
  {
   "cell_type": "code",
   "execution_count": 8,
   "metadata": {},
   "outputs": [],
   "source": [
    "def train(num_epochs, train_loader, device, loss, net, lr, wd=0, betas=(0.9, 0.999)):\n",
    "    # configure optimizer\n",
    "    optimizer = torch.optim.Adam(net.parameters(), betas=betas,lr=lr, weight_decay=wd)\n",
    "\n",
    "    loss_list = []\n",
    "    for epoch in range(num_epochs):\n",
    "        for X, y in train_loader:\n",
    "            X, y = X.to(device=device), y.to(device=device)\n",
    "            l = loss(net(X), net(y), gamma=gamma)\n",
    "            l.backward()\n",
    "            optimizer.step()\n",
    "        \n",
    "            loss_list.append(l.item())\n",
    "\n",
    "        if (epoch + 1) % 10 == 0:\n",
    "            print(f'[{epoch+1}/{num_epochs}] Loss: {loss_list[-1]}')\n",
    "            \n",
    "    sns.lineplot(data=loss_list)"
   ]
  },
  {
   "cell_type": "code",
   "execution_count": 9,
   "metadata": {},
   "outputs": [
    {
     "name": "stdout",
     "output_type": "stream",
     "text": [
      "[10/1000] Loss: 0.5319669246673584\n",
      "[20/1000] Loss: 0.8165351152420044\n",
      "[30/1000] Loss: 0.828458845615387\n",
      "[40/1000] Loss: 0.7475817799568176\n",
      "[50/1000] Loss: 0.6342266201972961\n",
      "[60/1000] Loss: 0.5165727138519287\n",
      "[70/1000] Loss: 0.41945916414260864\n",
      "[80/1000] Loss: 0.3603883981704712\n",
      "[90/1000] Loss: 0.3037424385547638\n",
      "[100/1000] Loss: 0.25625255703926086\n",
      "[110/1000] Loss: 0.24025605618953705\n",
      "[120/1000] Loss: 0.2165108025074005\n",
      "[130/1000] Loss: 0.19303318858146667\n",
      "[140/1000] Loss: 0.1725362241268158\n",
      "[150/1000] Loss: 0.1546473205089569\n",
      "[160/1000] Loss: 0.1385185718536377\n",
      "[170/1000] Loss: 0.12408315390348434\n",
      "[180/1000] Loss: 0.11068340390920639\n",
      "[190/1000] Loss: 0.09820833057165146\n",
      "[200/1000] Loss: 0.08748231083154678\n",
      "[210/1000] Loss: 0.07846012711524963\n",
      "[220/1000] Loss: 0.07089091092348099\n",
      "[230/1000] Loss: 0.06453559547662735\n",
      "[240/1000] Loss: 0.059216104447841644\n",
      "[250/1000] Loss: 0.05504989251494408\n",
      "[260/1000] Loss: 0.051396992057561874\n",
      "[270/1000] Loss: 0.048360228538513184\n",
      "[280/1000] Loss: 0.04586581513285637\n",
      "[290/1000] Loss: 0.043768465518951416\n",
      "[300/1000] Loss: 0.042094264179468155\n",
      "[310/1000] Loss: 0.04076699912548065\n",
      "[320/1000] Loss: 0.03954506292939186\n",
      "[330/1000] Loss: 0.03849802911281586\n",
      "[340/1000] Loss: 0.037598393857479095\n",
      "[350/1000] Loss: 0.036772388964891434\n",
      "[360/1000] Loss: 0.03611067309975624\n",
      "[370/1000] Loss: 0.03554414585232735\n",
      "[380/1000] Loss: 0.03506074100732803\n",
      "[390/1000] Loss: 0.03464732691645622\n",
      "[400/1000] Loss: 0.034192584455013275\n",
      "[410/1000] Loss: 0.03387264162302017\n",
      "[420/1000] Loss: 0.03360231593251228\n",
      "[430/1000] Loss: 0.03336344286799431\n",
      "[440/1000] Loss: 0.03316223993897438\n",
      "[450/1000] Loss: 0.032998330891132355\n",
      "[460/1000] Loss: 0.032857492566108704\n",
      "[470/1000] Loss: 0.03273344784975052\n",
      "[480/1000] Loss: 0.032626714557409286\n",
      "[490/1000] Loss: 0.03252769261598587\n",
      "[500/1000] Loss: 0.032471295446157455\n",
      "[510/1000] Loss: 0.03238869830965996\n",
      "[520/1000] Loss: 0.032302919775247574\n",
      "[530/1000] Loss: 0.03224710747599602\n",
      "[540/1000] Loss: 0.03220019116997719\n",
      "[550/1000] Loss: 0.0321454182267189\n",
      "[560/1000] Loss: 0.03210622817277908\n",
      "[570/1000] Loss: 0.03206746280193329\n",
      "[580/1000] Loss: 0.032047465443611145\n",
      "[590/1000] Loss: 0.03203508257865906\n",
      "[600/1000] Loss: 0.032020531594753265\n",
      "[610/1000] Loss: 0.03199001029133797\n",
      "[620/1000] Loss: 0.031963542103767395\n",
      "[630/1000] Loss: 0.03193831816315651\n",
      "[640/1000] Loss: 0.031914129853248596\n",
      "[650/1000] Loss: 0.03189747780561447\n",
      "[660/1000] Loss: 0.031871818006038666\n",
      "[670/1000] Loss: 0.03185335174202919\n",
      "[680/1000] Loss: 0.03183663263916969\n",
      "[690/1000] Loss: 0.03182075917720795\n",
      "[700/1000] Loss: 0.03180083632469177\n",
      "[710/1000] Loss: 0.03177574649453163\n",
      "[720/1000] Loss: 0.031768057495355606\n",
      "[730/1000] Loss: 0.03175654262304306\n",
      "[740/1000] Loss: 0.03174512833356857\n",
      "[750/1000] Loss: 0.03173595294356346\n",
      "[760/1000] Loss: 0.0317259207367897\n",
      "[770/1000] Loss: 0.0317186638712883\n",
      "[780/1000] Loss: 0.031710222363471985\n",
      "[790/1000] Loss: 0.03170378506183624\n",
      "[800/1000] Loss: 0.03169795870780945\n",
      "[810/1000] Loss: 0.03169264644384384\n",
      "[820/1000] Loss: 0.03168881684541702\n",
      "[830/1000] Loss: 0.031685929745435715\n",
      "[840/1000] Loss: 0.03168157860636711\n",
      "[850/1000] Loss: 0.03168035298585892\n",
      "[860/1000] Loss: 0.03167671337723732\n",
      "[870/1000] Loss: 0.03167299926280975\n",
      "[880/1000] Loss: 0.03167000040411949\n",
      "[890/1000] Loss: 0.03166729956865311\n",
      "[900/1000] Loss: 0.0316648930311203\n",
      "[910/1000] Loss: 0.0316624641418457\n",
      "[920/1000] Loss: 0.03166020289063454\n",
      "[930/1000] Loss: 0.03165818378329277\n",
      "[940/1000] Loss: 0.0316549614071846\n",
      "[950/1000] Loss: 0.031653210520744324\n",
      "[960/1000] Loss: 0.03165264427661896\n",
      "[970/1000] Loss: 0.03165135905146599\n",
      "[980/1000] Loss: 0.031652871519327164\n",
      "[990/1000] Loss: 0.03164917975664139\n",
      "[1000/1000] Loss: 0.03164588287472725\n"
     ]
    },
    {
     "data": {
      "image/png": "[encoded data removed]",
      "text/plain": [
       "<Figure size 432x288 with 1 Axes>"
      ]
     },
     "metadata": {
      "needs_background": "light"
     },
     "output_type": "display_data"
    }
   ],
   "source": [
    "train(num_epochs, train_loader, device, loss, net, lr=1e-3)"
   ]
  },
  {
   "cell_type": "code",
   "execution_count": 13,
   "metadata": {},
   "outputs": [
    {
     "data": {
      "text/plain": [
       "tensor([[1590.6167, 1207.5128],\n",
       "        [1192.4691,  989.5939],\n",
       "        [1217.3717, 1000.2969],\n",
       "        ...,\n",
       "        [1318.6653, 1019.5585],\n",
       "        [1579.4415, 1209.7910],\n",
       "        [ 736.7446,  691.6676]], device='cuda:0')"
      ]
     },
     "execution_count": 13,
     "metadata": {},
     "output_type": "execute_result"
    }
   ],
   "source": [
    "with torch.no_grad():\n",
    "    y = net(data.data.to(device=device))\n",
    "y"
   ]
  },
  {
   "cell_type": "code",
   "execution_count": 14,
   "metadata": {},
   "outputs": [
    {
     "data": {
      "image/png": "[encoded data removed]",
      "text/plain": [
       "<Figure size 576x288 with 2 Axes>"
      ]
     },
     "metadata": {
      "needs_background": "light"
     },
     "output_type": "display_data"
    }
   ],
   "source": [
    "data.show_distribution(y.cpu(), 1, 2)"
   ]
  },
  {
   "cell_type": "code",
   "execution_count": 12,
   "metadata": {},
   "outputs": [
    {
     "data": {
      "image/png": "[encoded data removed]",
      "text/plain": [
       "<Figure size 576x288 with 2 Axes>"
      ]
     },
     "metadata": {
      "needs_background": "light"
     },
     "output_type": "display_data"
    }
   ],
   "source": [
    "data.show_distribution(data.origin, 1, 2)"
   ]
  },
  {
   "cell_type": "markdown",
   "metadata": {},
   "source": [
    "1. batch size\n",
    "2. 试一下别的激活函数"
   ]
  }
 ],
 "metadata": {
  "kernelspec": {
   "display_name": "Python 3.9.12 ('d2l')",
   "language": "python",
   "name": "python3"
  },
  "language_info": {
   "codemirror_mode": {
    "name": "ipython",
    "version": 3
   },
   "file_extension": ".py",
   "mimetype": "text/x-python",
   "name": "python",
   "nbconvert_exporter": "python",
   "pygments_lexer": "ipython3",
   "version": "3.9.12"
  },
  "orig_nbformat": 4,
  "vscode": {
   "interpreter": {
    "hash": "9786cd5202a3e1134faf33328be1fafbd986456535c4edb94dc71700d3957bf9"
   }
  }
 },
 "nbformat": 4,
 "nbformat_minor": 2
}
